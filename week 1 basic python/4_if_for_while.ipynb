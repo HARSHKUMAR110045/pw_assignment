{
 "cells": [
  {
   "cell_type": "code",
   "execution_count": 10,
   "id": "ab875977-619a-4e56-affe-57d8db82eee0",
   "metadata": {},
   "outputs": [
    {
     "name": "stdout",
     "output_type": "stream",
     "text": [
      "smaller than 10 \n"
     ]
    }
   ],
   "source": [
    "a = 5\n",
    "if a>10:\n",
    "    print(\"a is greater than 10\")\n",
    "else:\n",
    "    print(\"smaller than 10 \")"
   ]
  },
  {
   "cell_type": "code",
   "execution_count": 11,
   "id": "df1ca933-7f6e-4a50-80d1-6729e1f07965",
   "metadata": {},
   "outputs": [
    {
     "data": {
      "text/plain": [
       "True"
      ]
     },
     "execution_count": 11,
     "metadata": {},
     "output_type": "execute_result"
    }
   ],
   "source": [
    "a >2"
   ]
  },
  {
   "cell_type": "code",
   "execution_count": 12,
   "id": "a6cc92af-8f99-40ed-8c93-6c846632f250",
   "metadata": {},
   "outputs": [
    {
     "data": {
      "text/plain": [
       "False"
      ]
     },
     "execution_count": 12,
     "metadata": {},
     "output_type": "execute_result"
    }
   ],
   "source": [
    "a>7"
   ]
  },
  {
   "cell_type": "code",
   "execution_count": 14,
   "id": "bb31aa63-f47d-45fb-8f2f-ecec3d78bc13",
   "metadata": {},
   "outputs": [
    {
     "name": "stdout",
     "output_type": "stream",
     "text": [
      " default \n"
     ]
    }
   ],
   "source": [
    "b = 30\n",
    "\n",
    "if b >40 :\n",
    "    print(\"smaller than 30\")\n",
    "elif b>50 :\n",
    "    print(\"smaller than 50\")\n",
    "elif b >100:\n",
    "    print(\"smaller than 100\")\n",
    "else:\n",
    "    print(\" default \")\n"
   ]
  },
  {
   "cell_type": "code",
   "execution_count": 16,
   "id": "4c833a3c-cf71-4b2d-97e4-03a206033e71",
   "metadata": {},
   "outputs": [
    {
     "name": "stdin",
     "output_type": "stream",
     "text": [
      " 55\n"
     ]
    },
    {
     "data": {
      "text/plain": [
       "'55'"
      ]
     },
     "execution_count": 16,
     "metadata": {},
     "output_type": "execute_result"
    }
   ],
   "source": [
    "input() # input function "
   ]
  },
  {
   "cell_type": "code",
   "execution_count": 17,
   "id": "36db6934-948c-46eb-b48e-e047722427e4",
   "metadata": {},
   "outputs": [
    {
     "name": "stdin",
     "output_type": "stream",
     "text": [
      " 45\n"
     ]
    },
    {
     "name": "stdout",
     "output_type": "stream",
     "text": [
      "<class 'int'>\n"
     ]
    }
   ],
   "source": [
    "a = int(input())\n",
    "print(type(a))"
   ]
  },
  {
   "cell_type": "code",
   "execution_count": 18,
   "id": "7a3f4740-0f8c-458c-9ef1-283b14c0ac8f",
   "metadata": {},
   "outputs": [],
   "source": [
    " # while loop "
   ]
  },
  {
   "cell_type": "code",
   "execution_count": 21,
   "id": "78593f9d-fe31-4ba9-9cc0-51a32edc3557",
   "metadata": {},
   "outputs": [
    {
     "name": "stdout",
     "output_type": "stream",
     "text": [
      "1\n",
      "2\n",
      "3\n",
      "4\n"
     ]
    }
   ],
   "source": [
    "i = 1 \n",
    "n = 5\n",
    "\n",
    "while i<5 :\n",
    "    print(i)\n",
    "    i = i+1"
   ]
  },
  {
   "cell_type": "code",
   "execution_count": 23,
   "id": "e07955e7-2ad7-4820-94bd-1c7d74be8631",
   "metadata": {},
   "outputs": [
    {
     "name": "stdout",
     "output_type": "stream",
     "text": [
      "1\n",
      "2\n",
      "3\n",
      "4\n",
      "5\n"
     ]
    }
   ],
   "source": [
    "i = 1 \n",
    "n = 5\n",
    "\n",
    "while i<=5 :\n",
    "    print(i)\n",
    "    i = i+1"
   ]
  },
  {
   "cell_type": "code",
   "execution_count": 24,
   "id": "49be2b99-2817-4bb4-aeab-d25874a1890b",
   "metadata": {},
   "outputs": [],
   "source": [
    " # while using else"
   ]
  },
  {
   "cell_type": "code",
   "execution_count": 25,
   "id": "fc35d3fe-e555-4972-a606-0361a04a8cdd",
   "metadata": {},
   "outputs": [
    {
     "name": "stdout",
     "output_type": "stream",
     "text": [
      "1\n",
      "2\n",
      "3\n",
      "4\n",
      "5\n",
      " all task completed \n"
     ]
    }
   ],
   "source": [
    "i = 1 \n",
    "n = 5\n",
    "\n",
    "while i<=5 :\n",
    "    print(i)\n",
    "    i = i+1\n",
    "else :\n",
    "    print(\" all task completed \")"
   ]
  },
  {
   "cell_type": "code",
   "execution_count": 26,
   "id": "35770638-c7ee-4534-9753-ce12e2cb550e",
   "metadata": {},
   "outputs": [],
   "source": [
    "# if while is breaked , then else is not executed."
   ]
  },
  {
   "cell_type": "code",
   "execution_count": 27,
   "id": "b0635c16-eb24-4420-879f-873d57383e6c",
   "metadata": {},
   "outputs": [
    {
     "name": "stdout",
     "output_type": "stream",
     "text": [
      "1\n",
      "2\n",
      "3\n"
     ]
    }
   ],
   "source": [
    "i = 1 \n",
    "n = 5\n",
    "\n",
    "while i<=5 :\n",
    "    print(i)\n",
    "    i = i+1\n",
    "    if i ==4 :\n",
    "        break\n",
    "else :\n",
    "    print(\" all task completed \")"
   ]
  },
  {
   "cell_type": "code",
   "execution_count": 31,
   "id": "fc97dcbe-4e37-44a2-a846-bed57731122c",
   "metadata": {},
   "outputs": [],
   "source": [
    "h  = \"harsh\""
   ]
  },
  {
   "cell_type": "code",
   "execution_count": 32,
   "id": "950d440b-7d70-426e-8818-721b14840b6f",
   "metadata": {},
   "outputs": [
    {
     "name": "stdout",
     "output_type": "stream",
     "text": [
      "h\n",
      "a\n",
      "r\n",
      "s\n",
      "h\n"
     ]
    }
   ],
   "source": [
    "for i in h :\n",
    "    print(i)"
   ]
  },
  {
   "cell_type": "code",
   "execution_count": 33,
   "id": "991afe2e-56d4-4931-b265-1033563a36e7",
   "metadata": {},
   "outputs": [],
   "source": [
    "l = [12,34,54563,656.16,\"hsasd\",\"dsdads\",132]"
   ]
  },
  {
   "cell_type": "code",
   "execution_count": 36,
   "id": "8ea4ac35-8d09-4ece-9281-2bcce71d3a24",
   "metadata": {},
   "outputs": [
    {
     "name": "stdout",
     "output_type": "stream",
     "text": [
      "12\n",
      "<class 'int'>\n",
      "34\n",
      "<class 'int'>\n",
      "54563\n",
      "<class 'int'>\n",
      "656.16\n",
      "<class 'float'>\n",
      "hsasd\n",
      "<class 'str'>\n",
      "dsdads\n",
      "<class 'str'>\n"
     ]
    }
   ],
   "source": [
    "for i in l:\n",
    "    if i == 132:\n",
    "        break\n",
    "    print(i)\n",
    "    print(type(i))\n",
    "else:\n",
    "    print(\" execution is completed\")"
   ]
  },
  {
   "cell_type": "code",
   "execution_count": 40,
   "id": "fe2022aa-137c-4318-9bf2-75c008d7e057",
   "metadata": {},
   "outputs": [
    {
     "name": "stdout",
     "output_type": "stream",
     "text": [
      "12\n",
      "34\n",
      "54563\n",
      "656.16\n",
      "hsasd\n",
      "dsdads\n",
      "132\n"
     ]
    }
   ],
   "source": [
    "for i in l:\n",
    "    print(i)\n",
    "    if i == 132:\n",
    "        break\n",
    "        \n",
    "else:\n",
    "    print(\" execution is completed\")"
   ]
  },
  {
   "cell_type": "code",
   "execution_count": 41,
   "id": "607ab44e-d1a6-423e-afaf-65028356f559",
   "metadata": {},
   "outputs": [],
   "source": [
    "# continue statement "
   ]
  },
  {
   "cell_type": "code",
   "execution_count": 42,
   "id": "493ac756-b273-4a28-86f7-0aae0cfe4c15",
   "metadata": {},
   "outputs": [
    {
     "name": "stdout",
     "output_type": "stream",
     "text": [
      "12\n",
      "34\n",
      "54563\n",
      "656.16\n",
      "hsasd\n",
      "dsdads\n",
      " execution is completed\n"
     ]
    }
   ],
   "source": [
    "for i in l:\n",
    "    if i == 132:\n",
    "        continue\n",
    "    print(i)\n",
    "        \n",
    "else:\n",
    "    print(\" execution is completed\")"
   ]
  },
  {
   "cell_type": "code",
   "execution_count": 43,
   "id": "1c3c8c4c-b126-42b6-8567-2c3eefdb7c81",
   "metadata": {},
   "outputs": [],
   "source": [
    "# range function \n"
   ]
  },
  {
   "cell_type": "code",
   "execution_count": 44,
   "id": "3a77df81-94ea-46f6-a6a9-3510c797a275",
   "metadata": {},
   "outputs": [
    {
     "data": {
      "text/plain": [
       "range(0, 10)"
      ]
     },
     "execution_count": 44,
     "metadata": {},
     "output_type": "execute_result"
    }
   ],
   "source": [
    "range (0, 10)"
   ]
  },
  {
   "cell_type": "code",
   "execution_count": 45,
   "id": "21b1e9ce-33f2-4dd3-b298-895978423b21",
   "metadata": {},
   "outputs": [
    {
     "data": {
      "text/plain": [
       "[0, 1, 2, 3, 4, 5, 6, 7, 8, 9]"
      ]
     },
     "execution_count": 45,
     "metadata": {},
     "output_type": "execute_result"
    }
   ],
   "source": [
    "list(range(0,10))"
   ]
  },
  {
   "cell_type": "code",
   "execution_count": null,
   "id": "4506d32c-7f02-4e65-8909-7651384c7c8e",
   "metadata": {},
   "outputs": [],
   "source": []
  },
  {
   "cell_type": "code",
   "execution_count": null,
   "id": "8d6cf6bf-ea0b-4475-815e-37e1e7c48c78",
   "metadata": {},
   "outputs": [],
   "source": []
  }
 ],
 "metadata": {
  "kernelspec": {
   "display_name": "Python 3 (ipykernel)",
   "language": "python",
   "name": "python3"
  },
  "language_info": {
   "codemirror_mode": {
    "name": "ipython",
    "version": 3
   },
   "file_extension": ".py",
   "mimetype": "text/x-python",
   "name": "python",
   "nbconvert_exporter": "python",
   "pygments_lexer": "ipython3",
   "version": "3.10.8"
  }
 },
 "nbformat": 4,
 "nbformat_minor": 5
}

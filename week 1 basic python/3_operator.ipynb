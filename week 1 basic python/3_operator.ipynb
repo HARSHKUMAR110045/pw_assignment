{
 "cells": [
  {
   "cell_type": "code",
   "execution_count": 1,
   "id": "86cdcf83-1c60-44a9-bdcb-1b724a227bf1",
   "metadata": {},
   "outputs": [],
   "source": [
    "# arthematic operator"
   ]
  },
  {
   "cell_type": "code",
   "execution_count": 2,
   "id": "f2c4eef3-dbe3-4e50-8600-f8c57bd2c87e",
   "metadata": {},
   "outputs": [
    {
     "data": {
      "text/plain": [
       "0"
      ]
     },
     "execution_count": 2,
     "metadata": {},
     "output_type": "execute_result"
    }
   ],
   "source": [
    "1-1"
   ]
  },
  {
   "cell_type": "code",
   "execution_count": 3,
   "id": "3920d2a3-c223-4653-a107-faffa50dd482",
   "metadata": {},
   "outputs": [
    {
     "data": {
      "text/plain": [
       "2"
      ]
     },
     "execution_count": 3,
     "metadata": {},
     "output_type": "execute_result"
    }
   ],
   "source": [
    "1+1"
   ]
  },
  {
   "cell_type": "code",
   "execution_count": 4,
   "id": "3a977446-f24f-43fc-a257-069ad4cee391",
   "metadata": {},
   "outputs": [
    {
     "data": {
      "text/plain": [
       "2.0"
      ]
     },
     "execution_count": 4,
     "metadata": {},
     "output_type": "execute_result"
    }
   ],
   "source": [
    "4/2"
   ]
  },
  {
   "cell_type": "code",
   "execution_count": 5,
   "id": "9db11a56-406d-4b17-8761-58c2bebee02c",
   "metadata": {},
   "outputs": [
    {
     "data": {
      "text/plain": [
       "0"
      ]
     },
     "execution_count": 5,
     "metadata": {},
     "output_type": "execute_result"
    }
   ],
   "source": [
    "10%2"
   ]
  },
  {
   "cell_type": "code",
   "execution_count": 6,
   "id": "044ce7d7-687f-41c9-9db9-8b63f2d20fa5",
   "metadata": {},
   "outputs": [
    {
     "data": {
      "text/plain": [
       "2"
      ]
     },
     "execution_count": 6,
     "metadata": {},
     "output_type": "execute_result"
    }
   ],
   "source": [
    "# floor value \n",
    "4//2"
   ]
  },
  {
   "cell_type": "code",
   "execution_count": 7,
   "id": "dc72a67c-2572-4be6-8ebe-8603fe6ff623",
   "metadata": {},
   "outputs": [
    {
     "data": {
      "text/plain": [
       "16"
      ]
     },
     "execution_count": 7,
     "metadata": {},
     "output_type": "execute_result"
    }
   ],
   "source": [
    "# exponetial \n",
    "\n",
    "2**4"
   ]
  },
  {
   "cell_type": "code",
   "execution_count": 8,
   "id": "5f0616ea-8999-4532-8096-651ebda9a7d2",
   "metadata": {},
   "outputs": [],
   "source": [
    "# comparision operator "
   ]
  },
  {
   "cell_type": "code",
   "execution_count": 9,
   "id": "02b22a79-2a93-4c7b-9d82-ef2215b1e17f",
   "metadata": {},
   "outputs": [
    {
     "data": {
      "text/plain": [
       "False"
      ]
     },
     "execution_count": 9,
     "metadata": {},
     "output_type": "execute_result"
    }
   ],
   "source": [
    "1>2"
   ]
  },
  {
   "cell_type": "code",
   "execution_count": 10,
   "id": "8a25afaa-1fdf-4a31-9b17-b1ba344c62f4",
   "metadata": {},
   "outputs": [
    {
     "data": {
      "text/plain": [
       "True"
      ]
     },
     "execution_count": 10,
     "metadata": {},
     "output_type": "execute_result"
    }
   ],
   "source": [
    "2>1"
   ]
  },
  {
   "cell_type": "code",
   "execution_count": 13,
   "id": "cf2dd37a-436b-4773-b042-87b418c5d5f1",
   "metadata": {},
   "outputs": [
    {
     "data": {
      "text/plain": [
       "True"
      ]
     },
     "execution_count": 13,
     "metadata": {},
     "output_type": "execute_result"
    }
   ],
   "source": [
    "2>=1"
   ]
  },
  {
   "cell_type": "code",
   "execution_count": 14,
   "id": "3720745a-7ad5-48c4-a1ce-3af1da55c381",
   "metadata": {},
   "outputs": [
    {
     "data": {
      "text/plain": [
       "False"
      ]
     },
     "execution_count": 14,
     "metadata": {},
     "output_type": "execute_result"
    }
   ],
   "source": [
    "2<=1"
   ]
  },
  {
   "cell_type": "code",
   "execution_count": 15,
   "id": "65f4312b-6a10-4f9c-9f66-bbc630d1c35d",
   "metadata": {},
   "outputs": [
    {
     "data": {
      "text/plain": [
       "True"
      ]
     },
     "execution_count": 15,
     "metadata": {},
     "output_type": "execute_result"
    }
   ],
   "source": [
    "3==3"
   ]
  },
  {
   "cell_type": "code",
   "execution_count": 16,
   "id": "88775d84-5da9-41fe-8eed-89538d77422e",
   "metadata": {},
   "outputs": [
    {
     "data": {
      "text/plain": [
       "False"
      ]
     },
     "execution_count": 16,
     "metadata": {},
     "output_type": "execute_result"
    }
   ],
   "source": [
    "3!=3"
   ]
  },
  {
   "cell_type": "code",
   "execution_count": 17,
   "id": "d0360afa-f0ff-465a-a790-6d9d3be97e18",
   "metadata": {},
   "outputs": [],
   "source": [
    "# logical operator "
   ]
  },
  {
   "cell_type": "code",
   "execution_count": 18,
   "id": "fc7321a6-7e40-4ff7-8189-feb01fe357e9",
   "metadata": {},
   "outputs": [
    {
     "data": {
      "text/plain": [
       "True"
      ]
     },
     "execution_count": 18,
     "metadata": {},
     "output_type": "execute_result"
    }
   ],
   "source": [
    "# and & \n",
    "True and True "
   ]
  },
  {
   "cell_type": "code",
   "execution_count": 19,
   "id": "047fe2f1-87f0-4fa6-a600-8dcd22e6fbcb",
   "metadata": {},
   "outputs": [
    {
     "data": {
      "text/plain": [
       "False"
      ]
     },
     "execution_count": 19,
     "metadata": {},
     "output_type": "execute_result"
    }
   ],
   "source": [
    "True and False"
   ]
  },
  {
   "cell_type": "code",
   "execution_count": 20,
   "id": "e9f59bd2-50d3-4325-883a-103fe15bb28c",
   "metadata": {},
   "outputs": [
    {
     "data": {
      "text/plain": [
       "0"
      ]
     },
     "execution_count": 20,
     "metadata": {},
     "output_type": "execute_result"
    }
   ],
   "source": [
    "1 & 0"
   ]
  },
  {
   "cell_type": "code",
   "execution_count": 21,
   "id": "57efa193-64b5-4a2b-97a2-fc91342cf631",
   "metadata": {},
   "outputs": [
    {
     "data": {
      "text/plain": [
       "0"
      ]
     },
     "execution_count": 21,
     "metadata": {},
     "output_type": "execute_result"
    }
   ],
   "source": [
    "0 &0"
   ]
  },
  {
   "cell_type": "code",
   "execution_count": 22,
   "id": "7746dc32-7bd7-40fe-8e23-a03ac50d283b",
   "metadata": {},
   "outputs": [
    {
     "data": {
      "text/plain": [
       "0"
      ]
     },
     "execution_count": 22,
     "metadata": {},
     "output_type": "execute_result"
    }
   ],
   "source": [
    "0 & 1"
   ]
  },
  {
   "cell_type": "code",
   "execution_count": 23,
   "id": "5ef7a19b-3ab3-4e69-9e07-3c72e5cbed58",
   "metadata": {},
   "outputs": [],
   "source": [
    "# or "
   ]
  },
  {
   "cell_type": "code",
   "execution_count": 24,
   "id": "03ec293c-4a8b-4e81-8e9a-30fc4064007a",
   "metadata": {},
   "outputs": [
    {
     "data": {
      "text/plain": [
       "1"
      ]
     },
     "execution_count": 24,
     "metadata": {},
     "output_type": "execute_result"
    }
   ],
   "source": [
    "1 | 1"
   ]
  },
  {
   "cell_type": "code",
   "execution_count": 25,
   "id": "a314c56e-869b-4c85-a609-ad71c59b3dda",
   "metadata": {},
   "outputs": [
    {
     "data": {
      "text/plain": [
       "1"
      ]
     },
     "execution_count": 25,
     "metadata": {},
     "output_type": "execute_result"
    }
   ],
   "source": [
    "1|0"
   ]
  },
  {
   "cell_type": "code",
   "execution_count": 26,
   "id": "3ceb1c5d-608e-4abd-a707-2f76a9381459",
   "metadata": {},
   "outputs": [
    {
     "data": {
      "text/plain": [
       "0"
      ]
     },
     "execution_count": 26,
     "metadata": {},
     "output_type": "execute_result"
    }
   ],
   "source": [
    "0|0"
   ]
  },
  {
   "cell_type": "code",
   "execution_count": 27,
   "id": "410f4e49-9f2f-4713-8017-68ad6174e2de",
   "metadata": {},
   "outputs": [
    {
     "data": {
      "text/plain": [
       "1"
      ]
     },
     "execution_count": 27,
     "metadata": {},
     "output_type": "execute_result"
    }
   ],
   "source": [
    "0|1"
   ]
  },
  {
   "cell_type": "code",
   "execution_count": 28,
   "id": "22a98cbb-04d7-4d53-be03-7f221c7a2097",
   "metadata": {},
   "outputs": [],
   "source": [
    "# bitwise  operator "
   ]
  },
  {
   "cell_type": "code",
   "execution_count": 29,
   "id": "cc7c514e-bee1-4e94-b863-f6d6550dc26d",
   "metadata": {},
   "outputs": [
    {
     "data": {
      "text/plain": [
       "5"
      ]
     },
     "execution_count": 29,
     "metadata": {},
     "output_type": "execute_result"
    }
   ],
   "source": [
    "# bitwise or\n",
    "5 |1"
   ]
  },
  {
   "cell_type": "code",
   "execution_count": 30,
   "id": "9d5120f1-0d8f-461f-8a44-bf1b8f986a80",
   "metadata": {},
   "outputs": [
    {
     "data": {
      "text/plain": [
       "'0b101'"
      ]
     },
     "execution_count": 30,
     "metadata": {},
     "output_type": "execute_result"
    }
   ],
   "source": [
    "bin(5)"
   ]
  },
  {
   "cell_type": "code",
   "execution_count": 31,
   "id": "4d0487ba-72a4-4e69-8883-4942d2e5b4ce",
   "metadata": {},
   "outputs": [
    {
     "data": {
      "text/plain": [
       "'0b1'"
      ]
     },
     "execution_count": 31,
     "metadata": {},
     "output_type": "execute_result"
    }
   ],
   "source": [
    "bin(1)"
   ]
  },
  {
   "cell_type": "code",
   "execution_count": 32,
   "id": "69a9fa0f-99c9-4e3a-8051-456ba38a0938",
   "metadata": {},
   "outputs": [
    {
     "data": {
      "text/plain": [
       "'0b101'"
      ]
     },
     "execution_count": 32,
     "metadata": {},
     "output_type": "execute_result"
    }
   ],
   "source": [
    "bin(5)"
   ]
  },
  {
   "cell_type": "code",
   "execution_count": 33,
   "id": "ba02c54e-612c-4498-acad-82f796345391",
   "metadata": {},
   "outputs": [
    {
     "data": {
      "text/plain": [
       "11"
      ]
     },
     "execution_count": 33,
     "metadata": {},
     "output_type": "execute_result"
    }
   ],
   "source": [
    "10 |3"
   ]
  },
  {
   "cell_type": "code",
   "execution_count": 34,
   "id": "223ee3bf-06c6-459b-a068-c012bf4e7c5d",
   "metadata": {},
   "outputs": [
    {
     "data": {
      "text/plain": [
       "'0b1010'"
      ]
     },
     "execution_count": 34,
     "metadata": {},
     "output_type": "execute_result"
    }
   ],
   "source": [
    "bin(10)"
   ]
  },
  {
   "cell_type": "code",
   "execution_count": 35,
   "id": "957c169d-851e-4339-8a78-037b8b2039ac",
   "metadata": {},
   "outputs": [
    {
     "data": {
      "text/plain": [
       "'0b11'"
      ]
     },
     "execution_count": 35,
     "metadata": {},
     "output_type": "execute_result"
    }
   ],
   "source": [
    "bin(3)"
   ]
  },
  {
   "cell_type": "code",
   "execution_count": 36,
   "id": "23dd5977-cb32-45ec-a89f-4cdf8880bcac",
   "metadata": {},
   "outputs": [
    {
     "data": {
      "text/plain": [
       "'0b1011'"
      ]
     },
     "execution_count": 36,
     "metadata": {},
     "output_type": "execute_result"
    }
   ],
   "source": [
    "bin(11)"
   ]
  },
  {
   "cell_type": "code",
   "execution_count": 37,
   "id": "831cdbdb-75bc-4fb0-a844-543538bdaa43",
   "metadata": {},
   "outputs": [],
   "source": [
    "# bitwise and "
   ]
  },
  {
   "cell_type": "code",
   "execution_count": 38,
   "id": "9714f578-2207-4d24-adeb-84045e28ab3e",
   "metadata": {},
   "outputs": [
    {
     "data": {
      "text/plain": [
       "2"
      ]
     },
     "execution_count": 38,
     "metadata": {},
     "output_type": "execute_result"
    }
   ],
   "source": [
    "10 & 2"
   ]
  },
  {
   "cell_type": "code",
   "execution_count": 39,
   "id": "2e2076c5-ee4f-4d12-8ad3-71c0f0c5af32",
   "metadata": {},
   "outputs": [
    {
     "data": {
      "text/plain": [
       "'0b1010'"
      ]
     },
     "execution_count": 39,
     "metadata": {},
     "output_type": "execute_result"
    }
   ],
   "source": [
    "bin(10)"
   ]
  },
  {
   "cell_type": "code",
   "execution_count": 41,
   "id": "a47fdbec-5663-4177-b490-af6af057aeb6",
   "metadata": {},
   "outputs": [
    {
     "data": {
      "text/plain": [
       "'0b10'"
      ]
     },
     "execution_count": 41,
     "metadata": {},
     "output_type": "execute_result"
    }
   ],
   "source": [
    "bin(2)"
   ]
  },
  {
   "cell_type": "code",
   "execution_count": 42,
   "id": "9ac925c0-42ac-4545-8acb-f7450ddae283",
   "metadata": {},
   "outputs": [
    {
     "data": {
      "text/plain": [
       "'0b10'"
      ]
     },
     "execution_count": 42,
     "metadata": {},
     "output_type": "execute_result"
    }
   ],
   "source": [
    "bin(2)"
   ]
  },
  {
   "cell_type": "code",
   "execution_count": 43,
   "id": "1f4a0a91-dd0f-4060-80b3-7be3d1a0a998",
   "metadata": {},
   "outputs": [],
   "source": [
    "# conjucate operators"
   ]
  },
  {
   "cell_type": "code",
   "execution_count": 44,
   "id": "27c09866-12ae-487e-a963-7b23b8d7f091",
   "metadata": {},
   "outputs": [
    {
     "data": {
      "text/plain": [
       "-14"
      ]
     },
     "execution_count": 44,
     "metadata": {},
     "output_type": "execute_result"
    }
   ],
   "source": [
    "~ 13"
   ]
  },
  {
   "cell_type": "code",
   "execution_count": 45,
   "id": "087eabac-4545-4d60-b734-7df6d89cd48f",
   "metadata": {},
   "outputs": [
    {
     "data": {
      "text/plain": [
       "-21"
      ]
     },
     "execution_count": 45,
     "metadata": {},
     "output_type": "execute_result"
    }
   ],
   "source": [
    "~20"
   ]
  },
  {
   "cell_type": "code",
   "execution_count": 46,
   "id": "0fa87a9f-8f1b-4929-8b40-d39dd55e0f9b",
   "metadata": {},
   "outputs": [],
   "source": [
    "# shift operator "
   ]
  },
  {
   "cell_type": "code",
   "execution_count": 47,
   "id": "963f87a1-5685-45e8-8774-4479e059ecd8",
   "metadata": {},
   "outputs": [
    {
     "data": {
      "text/plain": [
       "2"
      ]
     },
     "execution_count": 47,
     "metadata": {},
     "output_type": "execute_result"
    }
   ],
   "source": [
    "# right shift opertor \n",
    "10 >> 2"
   ]
  },
  {
   "cell_type": "code",
   "execution_count": 48,
   "id": "490290e3-a58d-4b41-b907-27bdd048a713",
   "metadata": {},
   "outputs": [
    {
     "data": {
      "text/plain": [
       "'0b1010'"
      ]
     },
     "execution_count": 48,
     "metadata": {},
     "output_type": "execute_result"
    }
   ],
   "source": [
    "bin(10)"
   ]
  },
  {
   "cell_type": "code",
   "execution_count": 49,
   "id": "8c973872-22db-4e09-8a47-26071bf0dad5",
   "metadata": {},
   "outputs": [
    {
     "data": {
      "text/plain": [
       "'0b10'"
      ]
     },
     "execution_count": 49,
     "metadata": {},
     "output_type": "execute_result"
    }
   ],
   "source": [
    "bin(2)"
   ]
  },
  {
   "cell_type": "code",
   "execution_count": 50,
   "id": "dbd6c402-ab19-49be-9545-7a44c9628546",
   "metadata": {},
   "outputs": [],
   "source": [
    "# left shift operator "
   ]
  },
  {
   "cell_type": "code",
   "execution_count": 52,
   "id": "ff2aa0a4-4fc6-4974-83d7-56fcc28669d3",
   "metadata": {},
   "outputs": [
    {
     "data": {
      "text/plain": [
       "40"
      ]
     },
     "execution_count": 52,
     "metadata": {},
     "output_type": "execute_result"
    }
   ],
   "source": [
    "10 << 2"
   ]
  },
  {
   "cell_type": "code",
   "execution_count": 55,
   "id": "51531fb7-6f3a-4707-8369-de21e4ec2482",
   "metadata": {},
   "outputs": [
    {
     "data": {
      "text/plain": [
       "'0b1010'"
      ]
     },
     "execution_count": 55,
     "metadata": {},
     "output_type": "execute_result"
    }
   ],
   "source": [
    "bin(10)\n",
    "# add 2 zero at right end in binary valaue \n",
    " # means 1010+00 = 101000 = 40"
   ]
  },
  {
   "cell_type": "code",
   "execution_count": 56,
   "id": "0871c7e2-1e18-4692-8aa6-1abe18ca6b79",
   "metadata": {},
   "outputs": [
    {
     "data": {
      "text/plain": [
       "'0b101000'"
      ]
     },
     "execution_count": 56,
     "metadata": {},
     "output_type": "execute_result"
    }
   ],
   "source": [
    "bin(40)"
   ]
  },
  {
   "cell_type": "code",
   "execution_count": 57,
   "id": "79734f8b-1131-4058-8b0a-da6f92029211",
   "metadata": {},
   "outputs": [
    {
     "data": {
      "text/plain": [
       "120"
      ]
     },
     "execution_count": 57,
     "metadata": {},
     "output_type": "execute_result"
    }
   ],
   "source": [
    "15 << 3"
   ]
  },
  {
   "cell_type": "code",
   "execution_count": 58,
   "id": "e1a0aca4-89cf-4272-87d7-10cb9f139b2b",
   "metadata": {},
   "outputs": [
    {
     "data": {
      "text/plain": [
       "'0b1111'"
      ]
     },
     "execution_count": 58,
     "metadata": {},
     "output_type": "execute_result"
    }
   ],
   "source": [
    "bin(15)\n",
    "# add 3 zero at right end of binary value , 1111+000 = 1111000"
   ]
  },
  {
   "cell_type": "code",
   "execution_count": 59,
   "id": "2307183e-d45f-4f52-abd0-bf9f1e51dda2",
   "metadata": {},
   "outputs": [
    {
     "data": {
      "text/plain": [
       "'0b1111000'"
      ]
     },
     "execution_count": 59,
     "metadata": {},
     "output_type": "execute_result"
    }
   ],
   "source": [
    "bin(120)"
   ]
  },
  {
   "cell_type": "code",
   "execution_count": 60,
   "id": "c5ec34da-6f42-4236-a82b-fc376f602bdf",
   "metadata": {},
   "outputs": [],
   "source": [
    "# assignment operator "
   ]
  },
  {
   "cell_type": "code",
   "execution_count": 70,
   "id": "2849586f-2938-499e-a0b9-1b0dd2701324",
   "metadata": {},
   "outputs": [],
   "source": [
    "b1 = 23"
   ]
  },
  {
   "cell_type": "code",
   "execution_count": 71,
   "id": "b65b716b-ac53-4574-9dcb-a3470899074b",
   "metadata": {},
   "outputs": [],
   "source": [
    "b1 += 1 "
   ]
  },
  {
   "cell_type": "code",
   "execution_count": 72,
   "id": "fb428ad3-8c2f-404c-95f3-8f4a70df2bd0",
   "metadata": {},
   "outputs": [
    {
     "data": {
      "text/plain": [
       "24"
      ]
     },
     "execution_count": 72,
     "metadata": {},
     "output_type": "execute_result"
    }
   ],
   "source": [
    "b1"
   ]
  },
  {
   "cell_type": "code",
   "execution_count": 73,
   "id": "88ddc69b-2335-4a59-98bd-600bc7e08d46",
   "metadata": {},
   "outputs": [],
   "source": [
    "b1 -= 2"
   ]
  },
  {
   "cell_type": "code",
   "execution_count": 74,
   "id": "f77ae0ce-4a68-40de-abbc-4b54403fb064",
   "metadata": {},
   "outputs": [
    {
     "data": {
      "text/plain": [
       "22"
      ]
     },
     "execution_count": 74,
     "metadata": {},
     "output_type": "execute_result"
    }
   ],
   "source": [
    "b1"
   ]
  },
  {
   "cell_type": "code",
   "execution_count": 75,
   "id": "0dd68233-ecb6-4be5-a7f8-a6259204790d",
   "metadata": {},
   "outputs": [],
   "source": [
    "b1 *= 2"
   ]
  },
  {
   "cell_type": "code",
   "execution_count": 76,
   "id": "84c52c7c-8d07-4e08-9f78-b35d381f4b13",
   "metadata": {},
   "outputs": [
    {
     "data": {
      "text/plain": [
       "44"
      ]
     },
     "execution_count": 76,
     "metadata": {},
     "output_type": "execute_result"
    }
   ],
   "source": [
    "b1"
   ]
  },
  {
   "cell_type": "code",
   "execution_count": 77,
   "id": "b24b4fe4-b9c3-4236-b899-4eb639972574",
   "metadata": {},
   "outputs": [],
   "source": [
    "b1 /= 2 "
   ]
  },
  {
   "cell_type": "code",
   "execution_count": 78,
   "id": "a8549b32-3317-4de6-9b04-9f7e45111cea",
   "metadata": {},
   "outputs": [
    {
     "data": {
      "text/plain": [
       "22.0"
      ]
     },
     "execution_count": 78,
     "metadata": {},
     "output_type": "execute_result"
    }
   ],
   "source": [
    "b1"
   ]
  },
  {
   "cell_type": "code",
   "execution_count": null,
   "id": "87c68ef1-b502-4d41-8578-a7f65daaa573",
   "metadata": {},
   "outputs": [],
   "source": []
  }
 ],
 "metadata": {
  "kernelspec": {
   "display_name": "Python 3 (ipykernel)",
   "language": "python",
   "name": "python3"
  },
  "language_info": {
   "codemirror_mode": {
    "name": "ipython",
    "version": 3
   },
   "file_extension": ".py",
   "mimetype": "text/x-python",
   "name": "python",
   "nbconvert_exporter": "python",
   "pygments_lexer": "ipython3",
   "version": "3.10.8"
  }
 },
 "nbformat": 4,
 "nbformat_minor": 5
}

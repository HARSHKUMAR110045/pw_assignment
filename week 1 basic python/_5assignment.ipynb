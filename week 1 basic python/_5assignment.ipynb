{
 "cells": [
  {
   "cell_type": "code",
   "execution_count": null,
   "id": "508b342d-055d-4be0-8d63-dcf61ab544e8",
   "metadata": {},
   "outputs": [],
   "source": [
    "# quest 1 "
   ]
  },
  {
   "cell_type": "code",
   "execution_count": null,
   "id": "bdb63ed8-d624-4a0c-be6c-dd3b643add3d",
   "metadata": {},
   "outputs": [],
   "source": [
    "a  = \"harsh\"\n",
    "b  = [12,23,\"hi\"]\n",
    "c = 12.4\n",
    "d = (12,23)"
   ]
  },
  {
   "cell_type": "code",
   "execution_count": null,
   "id": "146f6401-ea4d-4037-857e-28a96532338e",
   "metadata": {},
   "outputs": [],
   "source": [
    "# ques 2 "
   ]
  },
  {
   "cell_type": "code",
   "execution_count": null,
   "id": "014dbc28-9c12-4b5c-8365-4cfd85de2871",
   "metadata": {},
   "outputs": [],
   "source": [
    "var1 = 'helllo'\n",
    "var2 = '[DS,ML,Python]'\n",
    "var3 = ['DS','ML','Python']\n",
    "var4 = 1 "
   ]
  },
  {
   "cell_type": "code",
   "execution_count": null,
   "id": "0064224d-39d2-4e54-96ec-08e0a83f7c07",
   "metadata": {},
   "outputs": [],
   "source": [
    "print(type(var1))\n",
    "print(type(var2))\n",
    "print(type(var3))\n",
    "print(type(var4))"
   ]
  },
  {
   "cell_type": "code",
   "execution_count": null,
   "id": "b2271cd2-0c9f-492a-95a3-557d5df51cf9",
   "metadata": {},
   "outputs": [],
   "source": [
    "# question 3 "
   ]
  },
  {
   "cell_type": "code",
   "execution_count": null,
   "id": "ae808394-1030-4504-9ef7-849570c5b8f3",
   "metadata": {},
   "outputs": [],
   "source": [
    "a  = 4\n",
    "b = 2 "
   ]
  },
  {
   "cell_type": "code",
   "execution_count": null,
   "id": "bae6324b-86ec-469f-b637-3ebe5c903521",
   "metadata": {},
   "outputs": [],
   "source": [
    "a /b"
   ]
  },
  {
   "cell_type": "code",
   "execution_count": null,
   "id": "de33bca4-8b96-4e32-8cab-9f03aedd076e",
   "metadata": {},
   "outputs": [],
   "source": [
    "a%b"
   ]
  },
  {
   "cell_type": "code",
   "execution_count": null,
   "id": "2b6dd295-e84e-455a-92f5-584202192a3a",
   "metadata": {},
   "outputs": [],
   "source": [
    "a//b"
   ]
  },
  {
   "cell_type": "code",
   "execution_count": null,
   "id": "a314785e-9724-43e5-85e3-778f835e5d47",
   "metadata": {},
   "outputs": [],
   "source": [
    "a**b"
   ]
  },
  {
   "cell_type": "code",
   "execution_count": null,
   "id": "94436651-a6b8-4733-a0af-5386b8848704",
   "metadata": {},
   "outputs": [],
   "source": [
    "# question 4 "
   ]
  },
  {
   "cell_type": "code",
   "execution_count": null,
   "id": "c7cd3197-98ba-426e-95f4-28f7a16531ca",
   "metadata": {},
   "outputs": [],
   "source": [
    "a1 = [12,3,554,56,65,\"hi\",12.25,True,False,'wed']"
   ]
  },
  {
   "cell_type": "code",
   "execution_count": null,
   "id": "0bcb1729-036f-496f-9166-6ff59687d5e7",
   "metadata": {},
   "outputs": [],
   "source": [
    "for i in a1 :\n",
    "    print(i)\n",
    "    print(type(i))"
   ]
  },
  {
   "cell_type": "code",
   "execution_count": null,
   "id": "38073cb2-2580-41ee-ba27-5d3d9bf0492d",
   "metadata": {},
   "outputs": [],
   "source": [
    "# question 6"
   ]
  },
  {
   "cell_type": "code",
   "execution_count": null,
   "id": "5d00c51f-11fa-43bb-b831-a6dc6aabba2d",
   "metadata": {},
   "outputs": [],
   "source": [
    "l = [12,34,545,66,35,63,53,768,45,124,542,6468,757,353,763,252,23,765,4,885,5753,2424,54673,64642,5242]"
   ]
  },
  {
   "cell_type": "code",
   "execution_count": null,
   "id": "828d7f0b-6d1b-41d9-bbf0-a6dec64a309c",
   "metadata": {},
   "outputs": [],
   "source": [
    "print(len(l))"
   ]
  },
  {
   "cell_type": "code",
   "execution_count": null,
   "id": "4c6e3ae1-e7d6-4257-baf0-5041306dca81",
   "metadata": {},
   "outputs": [],
   "source": [
    "for i in l :\n",
    "    print(i)\n",
    "    if i%3 == 0 :\n",
    "        print(\" it is divisible by 3\")\n",
    "    else:\n",
    "        print(\"not divisible by 3\")"
   ]
  },
  {
   "cell_type": "code",
   "execution_count": null,
   "id": "58c99a58-07cd-4ebf-bb3a-26e06d2de27a",
   "metadata": {},
   "outputs": [],
   "source": [
    "# question 7 "
   ]
  },
  {
   "cell_type": "code",
   "execution_count": null,
   "id": "2eaad40f-898d-40a7-9e40-583d3c59efd5",
   "metadata": {},
   "outputs": [],
   "source": [
    "a = 'harsh'\n",
    "b = ['ds',12,45,'hi']"
   ]
  },
  {
   "cell_type": "code",
   "execution_count": null,
   "id": "a99db245-75f7-4589-a3ac-39bb281a3793",
   "metadata": {},
   "outputs": [],
   "source": [
    "b[3]"
   ]
  },
  {
   "cell_type": "code",
   "execution_count": null,
   "id": "00a9a117-e68b-4a7f-b0f5-028af1ca0a97",
   "metadata": {},
   "outputs": [],
   "source": [
    "b[3]=69 # mutable "
   ]
  },
  {
   "cell_type": "code",
   "execution_count": null,
   "id": "46f3a7eb-2a66-492d-ba9c-431673019c2b",
   "metadata": {},
   "outputs": [],
   "source": [
    "b"
   ]
  },
  {
   "cell_type": "code",
   "execution_count": null,
   "id": "2d6488d3-f1d1-4494-83ec-7c2fa8fffb1a",
   "metadata": {},
   "outputs": [],
   "source": [
    "a[0]"
   ]
  },
  {
   "cell_type": "code",
   "execution_count": 1,
   "id": "4d92b008-575d-42a0-ad7b-948b0d193144",
   "metadata": {},
   "outputs": [
    {
     "ename": "NameError",
     "evalue": "name 'h' is not defined",
     "output_type": "error",
     "traceback": [
      "\u001b[0;31m---------------------------------------------------------------------------\u001b[0m",
      "\u001b[0;31mNameError\u001b[0m                                 Traceback (most recent call last)",
      "Cell \u001b[0;32mIn[1], line 1\u001b[0m\n\u001b[0;32m----> 1\u001b[0m a[\u001b[38;5;241m0\u001b[39m]\u001b[38;5;241m=\u001b[39m\u001b[43mh\u001b[49m \u001b[38;5;66;03m# immutable \u001b[39;00m\n",
      "\u001b[0;31mNameError\u001b[0m: name 'h' is not defined"
     ]
    }
   ],
   "source": [
    "a[0]=h # immutable "
   ]
  },
  {
   "cell_type": "code",
   "execution_count": 2,
   "id": "1a9e3b15-f9c3-4359-a108-4929bceaae5c",
   "metadata": {},
   "outputs": [],
   "source": [
    "# question 5"
   ]
  },
  {
   "cell_type": "code",
   "execution_count": 7,
   "id": "01cbce34-91ba-4c7c-9050-4287f9eccda7",
   "metadata": {},
   "outputs": [
    {
     "name": "stdin",
     "output_type": "stream",
     "text": [
      " 10\n",
      " 3\n"
     ]
    }
   ],
   "source": [
    "a = int(input())\n",
    "b = int(input())\n",
    "\n",
    "c = 0\n",
    "while(a%b==0):\n",
    "    a = a/b\n",
    "    c+=1\n",
    "    print(c)\n",
    "\n",
    "else:\n",
    "    (\"not divisible\")"
   ]
  },
  {
   "cell_type": "code",
   "execution_count": null,
   "id": "98e4f41a-ed5f-4619-a6a0-27d0d3cc8243",
   "metadata": {},
   "outputs": [],
   "source": []
  }
 ],
 "metadata": {
  "kernelspec": {
   "display_name": "Python 3 (ipykernel)",
   "language": "python",
   "name": "python3"
  },
  "language_info": {
   "codemirror_mode": {
    "name": "ipython",
    "version": 3
   },
   "file_extension": ".py",
   "mimetype": "text/x-python",
   "name": "python",
   "nbconvert_exporter": "python",
   "pygments_lexer": "ipython3",
   "version": "3.10.8"
  }
 },
 "nbformat": 4,
 "nbformat_minor": 5
}

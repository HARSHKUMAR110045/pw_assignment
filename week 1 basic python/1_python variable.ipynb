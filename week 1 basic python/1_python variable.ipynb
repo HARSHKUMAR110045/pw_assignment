{
 "cells": [
  {
   "cell_type": "code",
   "execution_count": 2,
   "id": "1c6f0d4a-404d-4477-95cf-977f83594d93",
   "metadata": {},
   "outputs": [],
   "source": [
    "a = 1 "
   ]
  },
  {
   "cell_type": "code",
   "execution_count": 3,
   "id": "334c5927-93c1-4663-a4d2-293733ee375e",
   "metadata": {},
   "outputs": [
    {
     "data": {
      "text/plain": [
       "1"
      ]
     },
     "execution_count": 3,
     "metadata": {},
     "output_type": "execute_result"
    }
   ],
   "source": [
    "a"
   ]
  },
  {
   "cell_type": "code",
   "execution_count": 4,
   "id": "867a2504-7e58-4639-9a9c-8fc29a287e93",
   "metadata": {},
   "outputs": [
    {
     "data": {
      "text/plain": [
       "int"
      ]
     },
     "execution_count": 4,
     "metadata": {},
     "output_type": "execute_result"
    }
   ],
   "source": [
    "type(a)"
   ]
  },
  {
   "cell_type": "code",
   "execution_count": 6,
   "id": "4fc8d905-6e72-487c-87c1-578a3c2cc1ac",
   "metadata": {},
   "outputs": [],
   "source": [
    "b = 'harsh'"
   ]
  },
  {
   "cell_type": "code",
   "execution_count": 7,
   "id": "803bd1c1-7026-4144-868a-cb221b653983",
   "metadata": {},
   "outputs": [
    {
     "data": {
      "text/plain": [
       "'harsh'"
      ]
     },
     "execution_count": 7,
     "metadata": {},
     "output_type": "execute_result"
    }
   ],
   "source": [
    "b"
   ]
  },
  {
   "cell_type": "code",
   "execution_count": 8,
   "id": "61e4e5bf-f558-47df-ac61-0e2085b5935b",
   "metadata": {},
   "outputs": [
    {
     "data": {
      "text/plain": [
       "str"
      ]
     },
     "execution_count": 8,
     "metadata": {},
     "output_type": "execute_result"
    }
   ],
   "source": [
    "type(b)"
   ]
  },
  {
   "cell_type": "code",
   "execution_count": 9,
   "id": "2914de01-3636-44dc-8071-82a9592a88ed",
   "metadata": {},
   "outputs": [],
   "source": [
    "c = 45.565"
   ]
  },
  {
   "cell_type": "code",
   "execution_count": 10,
   "id": "38d4869d-dbb8-474e-b6e4-ee1866570fb0",
   "metadata": {},
   "outputs": [
    {
     "data": {
      "text/plain": [
       "45.565"
      ]
     },
     "execution_count": 10,
     "metadata": {},
     "output_type": "execute_result"
    }
   ],
   "source": [
    "c"
   ]
  },
  {
   "cell_type": "code",
   "execution_count": 11,
   "id": "dd9fcbcd-75fc-4104-a524-d5509597164c",
   "metadata": {},
   "outputs": [
    {
     "data": {
      "text/plain": [
       "float"
      ]
     },
     "execution_count": 11,
     "metadata": {},
     "output_type": "execute_result"
    }
   ],
   "source": [
    "type(c)"
   ]
  },
  {
   "cell_type": "code",
   "execution_count": 12,
   "id": "5787cd3e-dd95-4fe1-91b3-a364b86cb495",
   "metadata": {},
   "outputs": [],
   "source": [
    "harsh = 6544"
   ]
  },
  {
   "cell_type": "code",
   "execution_count": 13,
   "id": "f2c07612-d320-4f95-9241-952cb9e395a3",
   "metadata": {},
   "outputs": [
    {
     "data": {
      "text/plain": [
       "int"
      ]
     },
     "execution_count": 13,
     "metadata": {},
     "output_type": "execute_result"
    }
   ],
   "source": [
    "type(harsh)"
   ]
  },
  {
   "cell_type": "code",
   "execution_count": 14,
   "id": "c4c98154-96d3-4ea5-bd60-5a340e60f572",
   "metadata": {},
   "outputs": [
    {
     "data": {
      "text/plain": [
       "6544"
      ]
     },
     "execution_count": 14,
     "metadata": {},
     "output_type": "execute_result"
    }
   ],
   "source": [
    "harsh"
   ]
  },
  {
   "cell_type": "code",
   "execution_count": 16,
   "id": "c73d80a6-23b8-4afa-bb7b-ebe5fda509c7",
   "metadata": {},
   "outputs": [],
   "source": [
    "d = True"
   ]
  },
  {
   "cell_type": "code",
   "execution_count": 17,
   "id": "e318a5a1-0234-473f-a432-93210e77506d",
   "metadata": {},
   "outputs": [
    {
     "data": {
      "text/plain": [
       "True"
      ]
     },
     "execution_count": 17,
     "metadata": {},
     "output_type": "execute_result"
    }
   ],
   "source": [
    "d"
   ]
  },
  {
   "cell_type": "code",
   "execution_count": 18,
   "id": "d583dbce-034c-44d6-81f6-d34a92d9a14a",
   "metadata": {},
   "outputs": [
    {
     "data": {
      "text/plain": [
       "bool"
      ]
     },
     "execution_count": 18,
     "metadata": {},
     "output_type": "execute_result"
    }
   ],
   "source": [
    "type(d)"
   ]
  },
  {
   "cell_type": "code",
   "execution_count": 19,
   "id": "48c9f289-3c2a-4ab0-acf0-1ed39a583c35",
   "metadata": {},
   "outputs": [],
   "source": [
    "e = False"
   ]
  },
  {
   "cell_type": "code",
   "execution_count": 20,
   "id": "5898e080-ad8d-409f-8d0c-cf14d45ec795",
   "metadata": {},
   "outputs": [
    {
     "data": {
      "text/plain": [
       "1"
      ]
     },
     "execution_count": 20,
     "metadata": {},
     "output_type": "execute_result"
    }
   ],
   "source": [
    "d - e "
   ]
  },
  {
   "cell_type": "code",
   "execution_count": 21,
   "id": "8a6dd4a0-b02a-426d-a4d1-b86056cbc8d9",
   "metadata": {},
   "outputs": [
    {
     "data": {
      "text/plain": [
       "0"
      ]
     },
     "execution_count": 21,
     "metadata": {},
     "output_type": "execute_result"
    }
   ],
   "source": [
    "d*e"
   ]
  },
  {
   "cell_type": "code",
   "execution_count": 22,
   "id": "42b8a118-2c9d-4daf-aee2-d1fe6231446e",
   "metadata": {},
   "outputs": [],
   "source": [
    "h = 7 + 18j"
   ]
  },
  {
   "cell_type": "code",
   "execution_count": 23,
   "id": "0cc91dad-22af-4eb0-8dc5-4eddac418da3",
   "metadata": {},
   "outputs": [
    {
     "data": {
      "text/plain": [
       "complex"
      ]
     },
     "execution_count": 23,
     "metadata": {},
     "output_type": "execute_result"
    }
   ],
   "source": [
    "type(h)"
   ]
  },
  {
   "cell_type": "code",
   "execution_count": 25,
   "id": "08c7df5e-3233-4358-97b2-df2cd48450db",
   "metadata": {},
   "outputs": [
    {
     "data": {
      "text/plain": [
       "7.0"
      ]
     },
     "execution_count": 25,
     "metadata": {},
     "output_type": "execute_result"
    }
   ],
   "source": [
    "h.real\n"
   ]
  },
  {
   "cell_type": "code",
   "execution_count": 26,
   "id": "4544f913-bf91-4435-a71b-9e2ba5b99e73",
   "metadata": {},
   "outputs": [
    {
     "data": {
      "text/plain": [
       "18.0"
      ]
     },
     "execution_count": 26,
     "metadata": {},
     "output_type": "execute_result"
    }
   ],
   "source": [
    "h.imag"
   ]
  },
  {
   "cell_type": "code",
   "execution_count": null,
   "id": "c7bfbae7-fdb6-4c41-9968-ed0a7480bc68",
   "metadata": {},
   "outputs": [],
   "source": []
  }
 ],
 "metadata": {
  "kernelspec": {
   "display_name": "Python 3 (ipykernel)",
   "language": "python",
   "name": "python3"
  },
  "language_info": {
   "codemirror_mode": {
    "name": "ipython",
    "version": 3
   },
   "file_extension": ".py",
   "mimetype": "text/x-python",
   "name": "python",
   "nbconvert_exporter": "python",
   "pygments_lexer": "ipython3",
   "version": "3.10.8"
  }
 },
 "nbformat": 4,
 "nbformat_minor": 5
}

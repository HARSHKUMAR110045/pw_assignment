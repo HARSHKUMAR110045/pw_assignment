{
 "cells": [
  {
   "cell_type": "code",
   "execution_count": 1,
   "id": "34702134-7d54-4b8a-8a11-0cf82b4d8ec6",
   "metadata": {},
   "outputs": [],
   "source": [
    "s = \"harsh\"\n"
   ]
  },
  {
   "cell_type": "code",
   "execution_count": 2,
   "id": "1fe6d45f-86f8-42f6-98cb-3e95e3b83962",
   "metadata": {},
   "outputs": [],
   "source": [
    "s1 = \"kumar\"\n"
   ]
  },
  {
   "cell_type": "code",
   "execution_count": 3,
   "id": "aa45951f-4812-4059-8397-02730cef17ee",
   "metadata": {},
   "outputs": [
    {
     "data": {
      "text/plain": [
       "str"
      ]
     },
     "execution_count": 3,
     "metadata": {},
     "output_type": "execute_result"
    }
   ],
   "source": [
    "type(s)"
   ]
  },
  {
   "cell_type": "code",
   "execution_count": 4,
   "id": "863fb491-058f-4cc4-925b-f4705aad4b3a",
   "metadata": {},
   "outputs": [
    {
     "data": {
      "text/plain": [
       "str"
      ]
     },
     "execution_count": 4,
     "metadata": {},
     "output_type": "execute_result"
    }
   ],
   "source": [
    "type(s1)"
   ]
  },
  {
   "cell_type": "code",
   "execution_count": 5,
   "id": "1b70ff18-8255-4e6e-ac90-aa456335bc2a",
   "metadata": {},
   "outputs": [],
   "source": [
    "l=[1,23,45,545,3,\"sdhsd\",23.54]"
   ]
  },
  {
   "cell_type": "code",
   "execution_count": 6,
   "id": "085c724d-de6a-42c1-87d6-a97cedfe1736",
   "metadata": {},
   "outputs": [
    {
     "data": {
      "text/plain": [
       "list"
      ]
     },
     "execution_count": 6,
     "metadata": {},
     "output_type": "execute_result"
    }
   ],
   "source": [
    "type(l)"
   ]
  },
  {
   "cell_type": "code",
   "execution_count": 7,
   "id": "9be720bb-069e-4abc-ad4f-0d8ab3a51bb6",
   "metadata": {},
   "outputs": [
    {
     "data": {
      "text/plain": [
       "1"
      ]
     },
     "execution_count": 7,
     "metadata": {},
     "output_type": "execute_result"
    }
   ],
   "source": [
    "l[0]"
   ]
  },
  {
   "cell_type": "code",
   "execution_count": 17,
   "id": "266785fa-a8ba-4374-bee9-61cc7d6ba32a",
   "metadata": {},
   "outputs": [],
   "source": [
    "#mutable example\n",
    "l[3]=\"harsh\"\n",
    "l[5]=71"
   ]
  },
  {
   "cell_type": "code",
   "execution_count": 18,
   "id": "a56faa2c-8bfe-4035-a262-8645f95b7e99",
   "metadata": {},
   "outputs": [
    {
     "data": {
      "text/plain": [
       "[1, 23, 45, 'harsh', 3, 71, 23.54]"
      ]
     },
     "execution_count": 18,
     "metadata": {},
     "output_type": "execute_result"
    }
   ],
   "source": [
    "l"
   ]
  },
  {
   "cell_type": "code",
   "execution_count": 10,
   "id": "aa9fb2a6-193a-47f4-90b8-44c07fd82543",
   "metadata": {},
   "outputs": [],
   "source": [
    "## imutable example "
   ]
  },
  {
   "cell_type": "code",
   "execution_count": 12,
   "id": "7acf1136-b8fc-49cf-b32c-fc8c0f8002f7",
   "metadata": {},
   "outputs": [
    {
     "data": {
      "text/plain": [
       "'harsh'"
      ]
     },
     "execution_count": 12,
     "metadata": {},
     "output_type": "execute_result"
    }
   ],
   "source": [
    "s"
   ]
  },
  {
   "cell_type": "code",
   "execution_count": 13,
   "id": "dd553113-bc28-4ad1-aa3d-f5403386bd1b",
   "metadata": {},
   "outputs": [
    {
     "data": {
      "text/plain": [
       "'h'"
      ]
     },
     "execution_count": 13,
     "metadata": {},
     "output_type": "execute_result"
    }
   ],
   "source": [
    "s[0]"
   ]
  },
  {
   "cell_type": "code",
   "execution_count": 19,
   "id": "3882e531-9f30-43b1-8245-80f0c789246b",
   "metadata": {},
   "outputs": [
    {
     "ename": "NameError",
     "evalue": "name 'i' is not defined",
     "output_type": "error",
     "traceback": [
      "\u001b[0;31m---------------------------------------------------------------------------\u001b[0m",
      "\u001b[0;31mNameError\u001b[0m                                 Traceback (most recent call last)",
      "Cell \u001b[0;32mIn[19], line 1\u001b[0m\n\u001b[0;32m----> 1\u001b[0m s[\u001b[38;5;241m0\u001b[39m]\u001b[38;5;241m=\u001b[39m\u001b[43mi\u001b[49m\n\u001b[1;32m      2\u001b[0m \u001b[38;5;66;03m## shows error , its imutable\u001b[39;00m\n",
      "\u001b[0;31mNameError\u001b[0m: name 'i' is not defined"
     ]
    }
   ],
   "source": [
    "s[0]=i\n",
    "## shows error , its imutable"
   ]
  },
  {
   "cell_type": "code",
   "execution_count": null,
   "id": "6c898080-fa50-4212-b972-ed39467037d6",
   "metadata": {},
   "outputs": [],
   "source": []
  }
 ],
 "metadata": {
  "kernelspec": {
   "display_name": "Python 3 (ipykernel)",
   "language": "python",
   "name": "python3"
  },
  "language_info": {
   "codemirror_mode": {
    "name": "ipython",
    "version": 3
   },
   "file_extension": ".py",
   "mimetype": "text/x-python",
   "name": "python",
   "nbconvert_exporter": "python",
   "pygments_lexer": "ipython3",
   "version": "3.10.8"
  }
 },
 "nbformat": 4,
 "nbformat_minor": 5
}
